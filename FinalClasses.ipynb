{
 "cells": [
  {
   "cell_type": "code",
   "execution_count": 1,
   "id": "e6313ba5",
   "metadata": {},
   "outputs": [],
   "source": [
    "import numpy as np\n",
    "import pandas as pd\n",
    "import matplotlib.pyplot as plt\n",
    "import seaborn as sns\n",
    "import torch\n",
    "import torch.nn as nn\n",
    "import torch.optim as optim\n",
    "import sklearn\n",
    "from sklearn.model_selection import train_test_split\n",
    "from sklearn.metrics import mean_absolute_error, mean_squared_error"
   ]
  },
  {
   "cell_type": "code",
   "execution_count": 2,
   "id": "6f5f5c03",
   "metadata": {},
   "outputs": [],
   "source": [
    "class Encoder(nn.Module):\n",
    "    def __init__(self):\n",
    "        super(Encoder, self).__init__()\n",
    "        self.fc1 = nn.Linear(2601, 128)\n",
    "        self.fc2 = nn.Linear(128, 64)\n",
    "        self.fc3 = nn.Linear(64, 32)\n",
    "        self.fc4 = nn.Linear(32, 1)\n",
    "        \n",
    "    def forward(self, x):\n",
    "        x = torch.sigmoid(self.fc1(x))\n",
    "        x = torch.sigmoid(self.fc2(x))\n",
    "        x = torch.sigmoid(self.fc3(x))\n",
    "        x = torch.sigmoid(self.fc4(x))\n",
    "        return x"
   ]
  },
  {
   "cell_type": "code",
   "execution_count": 3,
   "id": "cb62aeeb",
   "metadata": {},
   "outputs": [],
   "source": [
    "class Decoder(nn.Module):\n",
    "    def __init__(self):\n",
    "        super(Decoder, self).__init__()\n",
    "        self.fc1 = nn.Linear(1, 32)\n",
    "        self.fc2 = nn.Linear(32, 64)\n",
    "        self.fc3 = nn.Linear(64, 128)\n",
    "        self.fc4 = nn.Linear(128, 2601)\n",
    "        \n",
    "    def forward(self, x):\n",
    "        x = torch.sigmoid(self.fc1(x))\n",
    "        x = torch.sigmoid(self.fc2(x))\n",
    "        x = torch.sigmoid(self.fc3(x))\n",
    "        x = torch.sigmoid(self.fc4(x))\n",
    "        return x"
   ]
  },
  {
   "cell_type": "code",
   "execution_count": 4,
   "id": "8c5578ba",
   "metadata": {},
   "outputs": [],
   "source": [
    "class SINDy():\n",
    "    def fit(self, x):\n",
    "        size = x.shape\n",
    "        sin_x = torch.sin(x)\n",
    "        cos_x = torch.cos(x)\n",
    "        x0 = torch.ones(size)\n",
    "        x1 = x\n",
    "        x2 = x**2\n",
    "        x3 = x**3\n",
    "        x4 = x**4\n",
    "        \n",
    "    output = torch.stack((x0,x1, x2, x3, x4, sin_x, cos_x))\n",
    "    return output"
   ]
  },
  {
   "cell_type": "code",
   "execution_count": null,
   "id": "6d76f322",
   "metadata": {},
   "outputs": [],
   "source": [
    "class AutoEncoder(nn.Module):\n",
    "    \n",
    "    def __init(self):\n",
    "        super(AutoEncoder, self).__init__()\n",
    "        self.encoder = Encoder()\n",
    "        self.decoder = Decoder()\n",
    "        self.SINDy() = SINDy()\n",
    "        self.SINDy_coeff = nn.Parameter(torch.full((7,1),1,dtype = torch.float32,requires_grad=True))\n",
    "        \n",
    "    def compute_gradients_second_order(self, x, x_dot, x_dot_dot, w, b):\n",
    "        dx = x_dot\n",
    "        d2x = x_dot_dot\n",
    "        for i in range(len(w)-1):\n",
    "            x = torch.sigmoid(torch.matmul(x, w[i].T) + b[i])\n",
    "            dx_cap = torch.matmul(dx, w[i])\n",
    "            sigm_dash = torch.multiply(x, 1-x)\n",
    "            sigm_doubledash = torch.multiply(sigm_dash, 1 - 2*x)\n",
    "            dx = torch.multiply(sigm_dash, dx_cap)\n",
    "            d2x = torch.multiply(sigm_doubledash, torch.square(dx_cap)) + torch.multiply(sigm_dash, torch.matmul(d2x, w[i]))\n",
    "        dx = torch.matmul(dx, w[-1])\n",
    "        d2x = torch.matmul(d2x, w[-1])\n",
    "        \n",
    "        return dx, d2x\n",
    "    \n",
    "    def outputs(self, x, x_dot):\n",
    "        z = self.encoder(z)\n",
    "        x_predicted = self.decoder(z)\n",
    "        \n",
    "        theta = self.SINDy(z)"
   ]
  }
 ],
 "metadata": {
  "kernelspec": {
   "display_name": "Python 3 (ipykernel)",
   "language": "python",
   "name": "python3"
  },
  "language_info": {
   "codemirror_mode": {
    "name": "ipython",
    "version": 3
   },
   "file_extension": ".py",
   "mimetype": "text/x-python",
   "name": "python",
   "nbconvert_exporter": "python",
   "pygments_lexer": "ipython3",
   "version": "3.10.7"
  }
 },
 "nbformat": 4,
 "nbformat_minor": 5
}
